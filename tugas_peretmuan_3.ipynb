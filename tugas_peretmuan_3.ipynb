{
  "nbformat": 4,
  "nbformat_minor": 0,
  "metadata": {
    "colab": {
      "provenance": [],
      "authorship_tag": "ABX9TyP2Xy297o3RB1ItM3cYXbKg",
      "include_colab_link": true
    },
    "kernelspec": {
      "name": "python3",
      "display_name": "Python 3"
    },
    "language_info": {
      "name": "python"
    }
  },
  "cells": [
    {
      "cell_type": "markdown",
      "metadata": {
        "id": "view-in-github",
        "colab_type": "text"
      },
      "source": [
        "<a href=\"https://colab.research.google.com/github/MuhamadFahmiii/Desain-Analisis-Algoritma/blob/main/tugas_peretmuan_3.ipynb\" target=\"_parent\"><img src=\"https://colab.research.google.com/assets/colab-badge.svg\" alt=\"Open In Colab\"/></a>"
      ]
    },
    {
      "cell_type": "code",
      "execution_count": 7,
      "metadata": {
        "id": "J7Pv_MniIxhr"
      },
      "outputs": [],
      "source": [
        "import numpy as np"
      ]
    },
    {
      "cell_type": "code",
      "source": [
        "#latihan 1\n",
        "from datetime import date\n",
        "\n",
        "# Membuat list Mahasiswa\n",
        "mahasiswa = [\n",
        "    {\n",
        "        \"Nama\": \"Muhamad Fahmi\",\n",
        "        \"NIM\": \"2022071026\",\n",
        "        \"Prodi\": \"Teknik Informatika\",\n",
        "        \"Mata Kuliah\": \"Desain Analisis Algoritma\",\n",
        "        \"Tanggal Hari Ini\": date.today().strftime(\"%Y-%h-%d\"),\n",
        "        \"Nama Universitas\": \"UPJ\"\n",
        "    },\n",
        "\n",
        "]\n",
        "\n",
        "# Menampilkan list Mahasiswa\n",
        "for mhs in mahasiswa:\n",
        "    print(\"Nama:\", mhs[\"Nama\"])\n",
        "    print(\"NIM:\", mhs[\"NIM\"])\n",
        "    print(\"Prodi:\", mhs[\"Prodi\"])\n",
        "    print(\"Mata Kuliah:\", mhs[\"Mata Kuliah\"])\n",
        "    print(\"Tanggal Hari Ini:\", mhs[\"Tanggal Hari Ini\"])\n",
        "    print(\"Nama Universitas:\", mhs[\"Nama Universitas\"])\n",
        "    print(\"\\n\")"
      ],
      "metadata": {
        "colab": {
          "base_uri": "https://localhost:8080/"
        },
        "id": "z3W-8IXfKPRw",
        "outputId": "af4fbeff-8f21-4e16-f5e4-d722771429bc"
      },
      "execution_count": 8,
      "outputs": [
        {
          "output_type": "stream",
          "name": "stdout",
          "text": [
            "Nama: Muhamad Fahmi\n",
            "NIM: 2022071026\n",
            "Prodi: Teknik Informatika\n",
            "Mata Kuliah: Desain Analisis Algoritma\n",
            "Tanggal Hari Ini: 2023-Sep-13\n",
            "Nama Universitas: UPJ\n",
            "\n",
            "\n"
          ]
        }
      ]
    },
    {
      "cell_type": "code",
      "source": [
        "import datetime\n",
        "today_date = datetime.datetime.today()\n",
        "date_list = [today_date.year, today_date.month,today_date.day]"
      ],
      "metadata": {
        "id": "33h8z_bSNZV_"
      },
      "execution_count": 9,
      "outputs": []
    },
    {
      "cell_type": "code",
      "source": [
        "#latihan 2\n",
        "\n",
        "bin_color=['20392302', '1132321', '1311213131']\n",
        "bin_color[0]"
      ],
      "metadata": {
        "colab": {
          "base_uri": "https://localhost:8080/",
          "height": 36
        },
        "id": "v4YcfCqAQGM3",
        "outputId": "4e36ef79-d8bb-43cb-b18e-6a997523ea32"
      },
      "execution_count": 10,
      "outputs": [
        {
          "output_type": "execute_result",
          "data": {
            "text/plain": [
              "'20392302'"
            ],
            "application/vnd.google.colaboratory.intrinsic+json": {
              "type": "string"
            }
          },
          "metadata": {},
          "execution_count": 10
        }
      ]
    },
    {
      "cell_type": "code",
      "source": [
        "#NIM\n",
        "mahasiswa = [\n",
        "      {\n",
        "        \"Nama\": \"Muhamad Fahmi\",\n",
        "        \"NIM\": \"2022071026\",\n",
        "        \"Prodi\": \"Teknik Informatika\",\n",
        "        \"Mata Kuliah\": \"Desain Analisis Algoritma\",\n",
        "        \"Tanggal Hari Ini\": date.today().strftime(\"%Y-%h-%d\"),\n",
        "        \"Nama Universitas\": \"UPJ\"\n",
        "     },\n",
        "     {\n",
        "        \"Nama\": \"John Doe\",\n",
        "        \"NIM\": \"123456789\",\n",
        "        \"Prodi\": \"Teknik Informatika\",\n",
        "        \"Mata Kuliah\": \"Pemrograman Python\",\n",
        "        \"Tanggal Hari Ini\": date.today().strftime(\"%Y-%m-%d\"),\n",
        "        \"Nama Universitas\": \"Universitas Contoh\"\n",
        "    },\n",
        "    {\n",
        "        \"Nama\": \"Jane Smith\",\n",
        "        \"NIM\": \"987654321\",\n",
        "        \"Prodi\": \"Manajemen\",\n",
        "        \"Mata Kuliah\": \"Manajemen Strategis\",\n",
        "        \"Tanggal Hari Ini\": date.today().strftime(\"%Y-%m-%d\"),\n",
        "        \"Nama Universitas\": \"Universitas Contoh\"\n",
        "    }\n",
        "\n",
        "]\n",
        "for i in range(len(mahasiswa)):\n",
        "    print(\"NIM Mahasiswa ke-\", i + 1, \":\", mahasiswa[i][\"NIM\"])"
      ],
      "metadata": {
        "colab": {
          "base_uri": "https://localhost:8080/"
        },
        "id": "JB8DfpL1QiQh",
        "outputId": "f174063e-8580-40b6-9ec5-edeeecf1e752"
      },
      "execution_count": 11,
      "outputs": [
        {
          "output_type": "stream",
          "name": "stdout",
          "text": [
            "NIM Mahasiswa ke- 1 : 2022071026\n",
            "NIM Mahasiswa ke- 2 : 123456789\n",
            "NIM Mahasiswa ke- 3 : 987654321\n"
          ]
        }
      ]
    },
    {
      "cell_type": "code",
      "source": [
        "#nama universitas\n",
        "mahasiswa = [\n",
        "      {\n",
        "        \"Nama\": \"Muhamad Fahmi\",\n",
        "        \"NIM\": \"2022071026\",\n",
        "        \"Prodi\": \"Teknik Informatika\",\n",
        "        \"Mata Kuliah\": \"Desain Analisis Algoritma\",\n",
        "        \"Tanggal Hari Ini\": date.today().strftime(\"%Y-%h-%d\"),\n",
        "        \"Nama Universitas\": \"UPJ\"\n",
        "     },\n",
        "     {\n",
        "        \"Nama\": \"John Doe\",\n",
        "        \"NIM\": \"123456789\",\n",
        "        \"Prodi\": \"Teknik Informatika\",\n",
        "        \"Mata Kuliah\": \"Pemrograman Python\",\n",
        "        \"Tanggal Hari Ini\": date.today().strftime(\"%Y-%m-%d\"),\n",
        "        \"Nama Universitas\": \"Unchdip\"\n",
        "    },\n",
        "    {\n",
        "        \"Nama\": \"Jane Smith\",\n",
        "        \"NIM\": \"987654321\",\n",
        "        \"Prodi\": \"Manajemen\",\n",
        "        \"Mata Kuliah\": \"Manajemen Strategis\",\n",
        "        \"Tanggal Hari Ini\": date.today().strftime(\"%Y-%m-%d\"),\n",
        "        \"Nama Universitas\": \"unbrow\"\n",
        "    }\n",
        "\n",
        "]\n",
        "for i in range(len(mahasiswa)):\n",
        "    print(\"NIM Mahasiswa ke-\", i + 1, \":\", mahasiswa[i][\"Nama Universitas\"])"
      ],
      "metadata": {
        "colab": {
          "base_uri": "https://localhost:8080/"
        },
        "id": "4J__pGDLQiVl",
        "outputId": "23160900-9b75-431c-d0be-ad276b68905f"
      },
      "execution_count": 12,
      "outputs": [
        {
          "output_type": "stream",
          "name": "stdout",
          "text": [
            "NIM Mahasiswa ke- 1 : UPJ\n",
            "NIM Mahasiswa ke- 2 : Unchdip\n",
            "NIM Mahasiswa ke- 3 : unbrow\n"
          ]
        }
      ]
    },
    {
      "cell_type": "code",
      "source": [
        "#latihan 3 (slicing)\n",
        "data_mahasiswa = \"12345678\", \"Teknik Informatika\", \"UPJ\","
      ],
      "metadata": {
        "id": "Sej9gvriQiX6"
      },
      "execution_count": 13,
      "outputs": []
    },
    {
      "cell_type": "code",
      "source": [
        "nim = data_mahasiswa[0:1]  # Mengambil 8 karakter pertama (NIM)\n",
        "prodi = data_mahasiswa[1:2]  # Mengambil karakter mulai dari indeks 11 sampai akhir (Prodi)\n",
        "univ = data_mahasiswa[2:3]\n",
        "\n",
        "print(\"NIM:\", nim)\n",
        "print(\"Prodi:\", prodi)\n",
        "print(\"UNIV:\", univ)\n"
      ],
      "metadata": {
        "colab": {
          "base_uri": "https://localhost:8080/"
        },
        "id": "b8Ar765gQiZ0",
        "outputId": "7ed3ed9b-2bf8-4daa-84a0-209333a3f003"
      },
      "execution_count": 14,
      "outputs": [
        {
          "output_type": "stream",
          "name": "stdout",
          "text": [
            "NIM: ('12345678',)\n",
            "Prodi: ('Teknik Informatika',)\n",
            "UNIV: ('UPJ',)\n"
          ]
        }
      ]
    },
    {
      "cell_type": "code",
      "source": [
        "#latihan 4\n",
        "\n",
        "bin_Mahasiswa = [\"Najib\", \"Fahmi\", \"Daffa\", \"Ican\"]\n",
        "\n",
        "for aMahasiswa in bin_Mahasiswa:\n",
        "  print(\"UPJ \" + aMahasiswa )"
      ],
      "metadata": {
        "colab": {
          "base_uri": "https://localhost:8080/"
        },
        "id": "AjJD--zhQidO",
        "outputId": "f5416c0a-ab63-4f58-a0fb-9ff9b9e9bb49"
      },
      "execution_count": 15,
      "outputs": [
        {
          "output_type": "stream",
          "name": "stdout",
          "text": [
            "UPJ Najib\n",
            "UPJ Fahmi\n",
            "UPJ Daffa\n",
            "UPJ Ican\n"
          ]
        }
      ]
    },
    {
      "cell_type": "code",
      "source": [
        "#latihan 5\n",
        "UPJ = (\"Universitas\", \"Pembangunan\", \"Jaya\")\n",
        "\n"
      ],
      "metadata": {
        "id": "RqM9c_z6YxQT"
      },
      "execution_count": 16,
      "outputs": []
    },
    {
      "cell_type": "code",
      "source": [
        "elemen_pertama = UPJ[2]\n",
        "print(elemen_pertama)  # Output: Universitas\n"
      ],
      "metadata": {
        "colab": {
          "base_uri": "https://localhost:8080/"
        },
        "id": "z6QZBsy0YxSx",
        "outputId": "26af893b-ec15-43e0-ae73-fbb331293e56"
      },
      "execution_count": 17,
      "outputs": [
        {
          "output_type": "stream",
          "name": "stdout",
          "text": [
            "Jaya\n"
          ]
        }
      ]
    },
    {
      "cell_type": "code",
      "source": [
        "hariawal = (\"senin\", \"selasa\", \"rabu\")\n",
        "hariakhir =(\"kamis\", \"jumat\", \"sabtu\")\n",
        "\n",
        "hari = (hariawal, hariakhir)\n",
        "print(hari)"
      ],
      "metadata": {
        "colab": {
          "base_uri": "https://localhost:8080/"
        },
        "id": "9w8Pf3GLYxVe",
        "outputId": "c3a4c2f4-954e-48a1-8cfe-e8e494a21549"
      },
      "execution_count": 18,
      "outputs": [
        {
          "output_type": "stream",
          "name": "stdout",
          "text": [
            "(('senin', 'selasa', 'rabu'), ('kamis', 'jumat', 'sabtu'))\n"
          ]
        }
      ]
    },
    {
      "cell_type": "code",
      "source": [
        "pertama = (100)\n",
        "kedua = (200, 400, 600)\n",
        "ketiga = (300)\n",
        "keempat = (400, 800)\n",
        "nested_tuple = (pertama, kedua, ketiga, keempat)\n",
        "\n",
        "print(nested_tuple)"
      ],
      "metadata": {
        "colab": {
          "base_uri": "https://localhost:8080/"
        },
        "id": "gf4hesp8YxY2",
        "outputId": "ae9c10ea-b34e-4063-c3d3-358b6e706801"
      },
      "execution_count": 19,
      "outputs": [
        {
          "output_type": "stream",
          "name": "stdout",
          "text": [
            "(100, (200, 400, 600), 300, (400, 800))\n"
          ]
        }
      ]
    },
    {
      "cell_type": "code",
      "source": [
        "#latihan 6\n",
        "\n",
        "dictMahasiswa = {\"Nama\":\"Muhamad Fahmi\", \"NIM\":\"2022071026\", \"Prodi\":\"Informatika\", \"Universitas\":\"UPJ\"}\n",
        "\n",
        "print(dictMahasiswa)\n",
        "print(dictMahasiswa[\"Nama\"])\n"
      ],
      "metadata": {
        "colab": {
          "base_uri": "https://localhost:8080/"
        },
        "id": "-6AWjCwrnq4B",
        "outputId": "f615fda5-f757-4433-ed89-2002997a4ed6"
      },
      "execution_count": 20,
      "outputs": [
        {
          "output_type": "stream",
          "name": "stdout",
          "text": [
            "{'Nama': 'Muhamad Fahmi', 'NIM': '2022071026', 'Prodi': 'Informatika', 'Universitas': 'UPJ'}\n",
            "Muhamad Fahmi\n"
          ]
        }
      ]
    },
    {
      "cell_type": "code",
      "source": [
        "#latihan 7\n",
        "#Inisiasi Set\n",
        "set_01 = {4,5,6,2}\n",
        "print(\"set_01 = \", set_01)\n",
        "\n",
        "#inisiasi mengubah list menjadi set\n",
        "set_02 = set()\n",
        "set_03 = set([2,1,4,3])\n",
        "\n",
        "print(type(set_02))\n",
        "print(\"set_03 = \", set_03)\n",
        "\n",
        "print(\"\\nmenambah\")\n",
        "set_01.add(576)\n",
        "print(set_01)\n",
        "\n",
        "print(\"\\nmenghapus\")\n",
        "set_01.discard(6)\n",
        "print(set_01)\n",
        "\n",
        "print(\"\\nunion\")\n",
        "print(set_01|set_03)\n",
        "\n",
        "print(\"\\nintersection\")\n",
        "print(set_01&set_03)\n",
        "\n",
        "print(\"\\ndifference\")\n",
        "print(set_01-set_03)\n",
        "\n",
        "print(\"\\nsymmetric difference\")\n",
        "print(set_01^set_03)"
      ],
      "metadata": {
        "colab": {
          "base_uri": "https://localhost:8080/"
        },
        "id": "vWJJ7rt9nrJk",
        "outputId": "cdbf0814-1e1e-4b97-8a0e-ec9689128c73"
      },
      "execution_count": 6,
      "outputs": [
        {
          "output_type": "stream",
          "name": "stdout",
          "text": [
            "set_01 =  {2, 4, 5, 6}\n",
            "<class 'set'>\n",
            "set_03 =  {1, 2, 3, 4}\n",
            "\n",
            "menambah\n",
            "{576, 2, 4, 5, 6}\n",
            "\n",
            "menghapus\n",
            "{576, 2, 4, 5}\n",
            "\n",
            "union\n",
            "{576, 1, 2, 3, 4, 5}\n",
            "\n",
            "intersection\n",
            "{2, 4}\n",
            "\n",
            "difference\n",
            "{576, 5}\n",
            "\n",
            "symmetric difference\n",
            "{576, 1, 3, 5}\n"
          ]
        }
      ]
    },
    {
      "cell_type": "code",
      "source": [
        "#latihan 8\n",
        "red = {\"dandelions\", \"leaves\", \"fire hydrant\"}\n",
        "green = {\"rose\", \"blood\", \"leaves\", \"fire hydrant\"}\n",
        "\n",
        "print(red|green)\n",
        "print(red&green)"
      ],
      "metadata": {
        "colab": {
          "base_uri": "https://localhost:8080/"
        },
        "id": "8RGbICTlnrSV",
        "outputId": "99978121-3079-44e5-88a9-c0bd0b07b2b3"
      },
      "execution_count": 21,
      "outputs": [
        {
          "output_type": "stream",
          "name": "stdout",
          "text": [
            "{'fire hydrant', 'dandelions', 'blood', 'rose', 'leaves'}\n",
            "{'fire hydrant', 'leaves'}\n"
          ]
        }
      ]
    },
    {
      "cell_type": "code",
      "source": [
        "#latihan 9\n",
        "import pandas as pd\n",
        "\n",
        "df = pd.DataFrame([\n",
        "    [1, \"Informatika\", 50, 30, 20],\n",
        "    [2, \"Sistem Informasi\", 55, 30, 25],\n",
        "    [3, \"Teknik Sipil\", 40, 30, 10]\n",
        "])\n",
        "\n",
        "df.columns = [\"No\", \"Prodi\", \"Mahasiswa\", \"laki-laki\", \"Perempuan\"]\n",
        "df.style.hide(axis='index')"
      ],
      "metadata": {
        "colab": {
          "base_uri": "https://localhost:8080/",
          "height": 143
        },
        "id": "lqURx-s5v7mk",
        "outputId": "4869902f-178c-4694-c2a1-983ad3a502e5"
      },
      "execution_count": 5,
      "outputs": [
        {
          "output_type": "execute_result",
          "data": {
            "text/plain": [
              "<pandas.io.formats.style.Styler at 0x7dd04e2a38b0>"
            ],
            "text/html": [
              "<style type=\"text/css\">\n",
              "</style>\n",
              "<table id=\"T_b4fa3\" class=\"dataframe\">\n",
              "  <thead>\n",
              "    <tr>\n",
              "      <th id=\"T_b4fa3_level0_col0\" class=\"col_heading level0 col0\" >No</th>\n",
              "      <th id=\"T_b4fa3_level0_col1\" class=\"col_heading level0 col1\" >Prodi</th>\n",
              "      <th id=\"T_b4fa3_level0_col2\" class=\"col_heading level0 col2\" >Mahasiswa</th>\n",
              "      <th id=\"T_b4fa3_level0_col3\" class=\"col_heading level0 col3\" >laki-laki</th>\n",
              "      <th id=\"T_b4fa3_level0_col4\" class=\"col_heading level0 col4\" >Perempuan</th>\n",
              "    </tr>\n",
              "  </thead>\n",
              "  <tbody>\n",
              "    <tr>\n",
              "      <td id=\"T_b4fa3_row0_col0\" class=\"data row0 col0\" >1</td>\n",
              "      <td id=\"T_b4fa3_row0_col1\" class=\"data row0 col1\" >Informatika</td>\n",
              "      <td id=\"T_b4fa3_row0_col2\" class=\"data row0 col2\" >50</td>\n",
              "      <td id=\"T_b4fa3_row0_col3\" class=\"data row0 col3\" >30</td>\n",
              "      <td id=\"T_b4fa3_row0_col4\" class=\"data row0 col4\" >20</td>\n",
              "    </tr>\n",
              "    <tr>\n",
              "      <td id=\"T_b4fa3_row1_col0\" class=\"data row1 col0\" >2</td>\n",
              "      <td id=\"T_b4fa3_row1_col1\" class=\"data row1 col1\" >Sistem Informasi</td>\n",
              "      <td id=\"T_b4fa3_row1_col2\" class=\"data row1 col2\" >55</td>\n",
              "      <td id=\"T_b4fa3_row1_col3\" class=\"data row1 col3\" >30</td>\n",
              "      <td id=\"T_b4fa3_row1_col4\" class=\"data row1 col4\" >25</td>\n",
              "    </tr>\n",
              "    <tr>\n",
              "      <td id=\"T_b4fa3_row2_col0\" class=\"data row2 col0\" >3</td>\n",
              "      <td id=\"T_b4fa3_row2_col1\" class=\"data row2 col1\" >Teknik Sipil</td>\n",
              "      <td id=\"T_b4fa3_row2_col2\" class=\"data row2 col2\" >40</td>\n",
              "      <td id=\"T_b4fa3_row2_col3\" class=\"data row2 col3\" >30</td>\n",
              "      <td id=\"T_b4fa3_row2_col4\" class=\"data row2 col4\" >10</td>\n",
              "    </tr>\n",
              "  </tbody>\n",
              "</table>\n"
            ]
          },
          "metadata": {},
          "execution_count": 5
        }
      ]
    },
    {
      "cell_type": "code",
      "source": [
        "#latihan 10\n",
        "import numpy as np\n",
        "\n",
        "matrix = np.array([\n",
        "    [100, 200, 300],\n",
        "    [700, 600, 500],\n",
        "    [900, 1000, 800]\n",
        "    ])\n",
        "\n",
        "print(matrix)\n",
        "\n",
        "print(\"\\nTranspose:\")\n",
        "print(matrix.T)"
      ],
      "metadata": {
        "colab": {
          "base_uri": "https://localhost:8080/"
        },
        "id": "KoYjIad4v7qH",
        "outputId": "949c8f6d-eafb-4b88-9de0-8b71cb98f23b"
      },
      "execution_count": 4,
      "outputs": [
        {
          "output_type": "stream",
          "name": "stdout",
          "text": [
            "[[ 100  200  300]\n",
            " [ 700  600  500]\n",
            " [ 900 1000  800]]\n",
            "\n",
            "Transpose:\n",
            "[[ 100  700  900]\n",
            " [ 200  600 1000]\n",
            " [ 300  500  800]]\n"
          ]
        }
      ]
    }
  ]
}