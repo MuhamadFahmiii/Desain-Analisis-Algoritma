{
  "nbformat": 4,
  "nbformat_minor": 0,
  "metadata": {
    "colab": {
      "provenance": [],
      "authorship_tag": "ABX9TyNUQNEekFodGA07Xl855T1t",
      "include_colab_link": true
    },
    "kernelspec": {
      "name": "python3",
      "display_name": "Python 3"
    },
    "language_info": {
      "name": "python"
    }
  },
  "cells": [
    {
      "cell_type": "markdown",
      "metadata": {
        "id": "view-in-github",
        "colab_type": "text"
      },
      "source": [
        "<a href=\"https://colab.research.google.com/github/MuhamadFahmiii/Desain-Analisis-Algoritma/blob/main/tugas_pertemuan_10.ipynb\" target=\"_parent\"><img src=\"https://colab.research.google.com/assets/colab-badge.svg\" alt=\"Open In Colab\"/></a>"
      ]
    },
    {
      "cell_type": "code",
      "source": [
        "pip install pulp"
      ],
      "metadata": {
        "colab": {
          "base_uri": "https://localhost:8080/"
        },
        "id": "JT1eQMCvpl06",
        "outputId": "a76f4f70-c9c7-4a24-f51f-42fd576d5a45"
      },
      "execution_count": 1,
      "outputs": [
        {
          "output_type": "stream",
          "name": "stdout",
          "text": [
            "Collecting pulp\n",
            "  Downloading PuLP-2.7.0-py3-none-any.whl (14.3 MB)\n",
            "\u001b[2K     \u001b[90m━━━━━━━━━━━━━━━━━━━━━━━━━━━━━━━━━━━━━━━━\u001b[0m \u001b[32m14.3/14.3 MB\u001b[0m \u001b[31m84.9 MB/s\u001b[0m eta \u001b[36m0:00:00\u001b[0m\n",
            "\u001b[?25hInstalling collected packages: pulp\n",
            "Successfully installed pulp-2.7.0\n"
          ]
        }
      ]
    },
    {
      "cell_type": "code",
      "execution_count": 2,
      "metadata": {
        "colab": {
          "base_uri": "https://localhost:8080/"
        },
        "id": "4kdDB4nAnKwO",
        "outputId": "35f28ed0-4c06-49f4-b4f8-3b9deca08b7b"
      },
      "outputs": [
        {
          "output_type": "stream",
          "name": "stdout",
          "text": [
            "Jumlah robot canggih (A): 6.0\n",
            "Jumlah robot dasar (B): 1.0\n",
            "Keuntungan maksimum: 28000.0\n"
          ]
        }
      ],
      "source": [
        "import pulp\n",
        "\n",
        "# Buat masalah pemrograman linier\n",
        "model = pulp.LpProblem(\"Maximize_Profit\", pulp.LpMaximize)\n",
        "\n",
        "# Tentukan variabel keputusan\n",
        "A = pulp.LpVariable(\"A\", lowBound=0, cat=\"Integer\")\n",
        "B = pulp.LpVariable(\"B\", lowBound=0, cat=\"Integer\")\n",
        "\n",
        "# Tentukan fungsi objektif\n",
        "model += 4200 * A + 2800 * B, \"Keuntungan\"\n",
        "\n",
        "# Tentukan batasan-batasan\n",
        "model += 3 * A + 2 * B <= 20, \"Teknisi\"\n",
        "model += 4 * A + 3 * B <= 30, \"Spesialis_AI\"\n",
        "model += 4 * A + 3 * B <= 44, \"Engineer\"\n",
        "\n",
        "# Selesaikan masalah\n",
        "model.solve()\n",
        "pulp.LpStatus[model.status]\n",
        "\n",
        "# Tampilkan hasil\n",
        "print(\"Jumlah robot canggih (A):\", pulp.value(A))\n",
        "print(\"Jumlah robot dasar (B):\", pulp.value(B))\n",
        "print(\"Keuntungan maksimum:\", pulp.value(model.objective))\n"
      ]
    },
    {
      "cell_type": "code",
      "source": [
        "print (A.varValue)\n",
        "print (B.varValue)"
      ],
      "metadata": {
        "colab": {
          "base_uri": "https://localhost:8080/"
        },
        "id": "BdQZyMO8r0yK",
        "outputId": "5ca0679d-c2ac-4f82-fbda-e35d24ea3c9d"
      },
      "execution_count": 3,
      "outputs": [
        {
          "output_type": "stream",
          "name": "stdout",
          "text": [
            "6.0\n",
            "1.0\n"
          ]
        }
      ]
    },
    {
      "cell_type": "code",
      "source": [
        "print (pulp.value(model.objective))"
      ],
      "metadata": {
        "colab": {
          "base_uri": "https://localhost:8080/"
        },
        "id": "6fEgLdUer01h",
        "outputId": "96639259-fcf0-423b-8216-6dda49dc5813"
      },
      "execution_count": 4,
      "outputs": [
        {
          "output_type": "stream",
          "name": "stdout",
          "text": [
            "28000.0\n"
          ]
        }
      ]
    },
    {
      "cell_type": "code",
      "source": [
        "#latihan\n",
        "# 4x + 3y = 34\n",
        "import pulp\n",
        "\n",
        " # Membuat objek masalah optimasi\n",
        "model = pulp.LpProblem(name=\"Pemecahan_Persamaan\", sense=pulp.LpMinimize)\n",
        "\n",
        " #Membuat variable x dan y\n",
        "x = pulp.LpVariable(name=\"x\")\n",
        "y = pulp.LpVariable(name=\"y\")\n",
        "\n",
        " # Menambahkan Batasan\n",
        "model += 4 * x + 3 * y == 37\n",
        "\n",
        " # Menyelesaikan Masalah\n",
        "model.solve()\n",
        "\n",
        " # Menampilkan Hasil\n",
        "print(\"Status:\", model.status)\n",
        "print(\"Nilai x =\", x.varValue)\n",
        "print(\"Nilai y =\", y.varValue)"
      ],
      "metadata": {
        "colab": {
          "base_uri": "https://localhost:8080/"
        },
        "id": "RmtjGYFmqGGm",
        "outputId": "5b7a41b9-509f-49bb-a90a-0f97be2e2e3e"
      },
      "execution_count": 5,
      "outputs": [
        {
          "output_type": "stream",
          "name": "stdout",
          "text": [
            "Status: 1\n",
            "Nilai x = 9.25\n",
            "Nilai y = 0.0\n"
          ]
        }
      ]
    },
    {
      "cell_type": "code",
      "source": [
        "# 5x + y = 37\n",
        "import pulp\n",
        "\n",
        " # Membuat objek masalah optimasi\n",
        "model = pulp.LpProblem(name=\"Pemecahan_Persamaan\", sense=pulp.LpMinimize)\n",
        "\n",
        " #Membuat variable x dan y\n",
        "x = pulp.LpVariable(name=\"x\")\n",
        "y = pulp.LpVariable(name=\"y\")\n",
        "\n",
        " # Menambahkan Batasan\n",
        "model += 5 * x + 1 * y == 37\n",
        "\n",
        " # Menyelesaikan Masalah\n",
        "model.solve()\n",
        "\n",
        " # Menampilkan Hasil\n",
        "print(\"Status:\", model.status)\n",
        "print(\"Nilai x =\", x.varValue)\n",
        "print(\"Nilai y =\", y.varValue)"
      ],
      "metadata": {
        "colab": {
          "base_uri": "https://localhost:8080/"
        },
        "id": "6vCmZ6CdzqIQ",
        "outputId": "7dc65ea0-381c-4dc8-9182-a18fc28aa863"
      },
      "execution_count": 6,
      "outputs": [
        {
          "output_type": "stream",
          "name": "stdout",
          "text": [
            "Status: 1\n",
            "Nilai x = 7.4\n",
            "Nilai y = 0.0\n"
          ]
        }
      ]
    },
    {
      "cell_type": "code",
      "source": [
        "#latihan no 2\n",
        "import pulp\n",
        "\n",
        "model = pulp.LpProblem(\"ProfitMaximisingProblem\", pulp.LpMaximize)\n",
        "X = pulp.LpVariable('X', lowBound=0, cat='Integer')\n",
        "Y = pulp.LpVariable('Y', lowBound=0, cat='Integer')\n",
        "\n",
        "model += 4 * X + 3 * Y == 34\n",
        "model += 5 * X + 1 * Y == 37\n",
        "\n",
        "model.solve()\n",
        "\n",
        "print (X.varValue)\n",
        "print (Y.varValue)\n",
        ""
      ],
      "metadata": {
        "colab": {
          "base_uri": "https://localhost:8080/"
        },
        "id": "_V8NFHVgyDW4",
        "outputId": "50411a71-f4e3-44d4-fac7-ed6bfd4502a4"
      },
      "execution_count": 7,
      "outputs": [
        {
          "output_type": "stream",
          "name": "stdout",
          "text": [
            "7.0\n",
            "2.0\n"
          ]
        }
      ]
    },
    {
      "cell_type": "code",
      "source": [
        "#latihan soal cerita 1\n",
        "model = pulp.LpProblem(\"ProfitMaximisingProblem\", pulp.LpMaximize)\n",
        "X = pulp.LpVariable('X', lowBound=0, cat='Integer')\n",
        "Y = pulp.LpVariable('Y', lowBound=0, cat='Integer')\n",
        "\n",
        "model += 3 * X + 4 * Y == 11000\n",
        "model += 1 * X + 7 * Y == 15000\n",
        "model += 2 * X + 6 * Y, 'Hasil'\n",
        "\n",
        "model.solve()\n",
        "pulp.LpStatus[model.status]\n",
        "\n",
        "print (X.varValue)\n",
        "print (Y.varValue)\n",
        "print (pulp.value(model.objective))"
      ],
      "metadata": {
        "colab": {
          "base_uri": "https://localhost:8080/"
        },
        "id": "SIVMR6Nl1c_o",
        "outputId": "01f515d4-8946-4a06-87e7-4ebb0984c391"
      },
      "execution_count": 8,
      "outputs": [
        {
          "output_type": "stream",
          "name": "stdout",
          "text": [
            "1000.0\n",
            "2000.0\n",
            "14000.0\n"
          ]
        }
      ]
    },
    {
      "cell_type": "code",
      "source": [
        "#latihan soal cerita 2\n",
        "model = pulp.LpProblem(\"KelilingPersegiPanjang\", pulp.LpMaximize)\n",
        "X = pulp.LpVariable('X', lowBound=0, cat='Integer')\n",
        "Y = pulp.LpVariable('Y', lowBound=0, cat='Integer')\n",
        "\n",
        "model += 2 * X + 2 * Y, 'Keliling'\n",
        "\n",
        "model += 2 * X + 2 * Y == 44\n",
        "model += 2 * X + 2 * (X - 6) == 44\n",
        "\n",
        "model.solve()\n",
        "pulp.LpStatus[model.status]\n",
        "\n",
        "print (X.varValue)\n",
        "print (Y.varValue)\n",
        "print (pulp.value(model.objective))"
      ],
      "metadata": {
        "colab": {
          "base_uri": "https://localhost:8080/"
        },
        "id": "xPiLh_q41dCX",
        "outputId": "d60dd635-b245-43ea-9aca-abfeff169960"
      },
      "execution_count": 9,
      "outputs": [
        {
          "output_type": "stream",
          "name": "stdout",
          "text": [
            "14.0\n",
            "8.0\n",
            "44.0\n"
          ]
        }
      ]
    },
    {
      "cell_type": "code",
      "source": [
        "# import required libraries scipy\n",
        "import numpy as np\n",
        "from scipy.optimize import linprog\n",
        "\n",
        "#set the inequality constraints matrix\n",
        "#note : the inequality constraints must be in the from of <=\n",
        "A = np.array([[1,0], [2,3], [1,1], [-1,0], [0,-1]])\n",
        "\n",
        "#set the inequality constraints vector\n",
        "b = np.array([16, 19, 8, 0, 0])\n",
        "\n",
        "# set the coefficients of the linear objective fiunction vector\n",
        "# note : when maximizing, change the signs of the c vector coefficient\n",
        "c = np.array([-5, -7])\n",
        "\n",
        "#solve linear programming problem\n",
        "res = linprog(c, A_ub=A, b_ub=b)\n",
        "\n",
        "# Print reuslt\n",
        "print('Optimal value:', round(res.fun*-1, ndigits=2),\n",
        "'\\nx values:', res.x,\n",
        "'\\nNumber of iterations performed:', res.nit,\n",
        "'\\nStatus\"', res.message)"
      ],
      "metadata": {
        "colab": {
          "base_uri": "https://localhost:8080/"
        },
        "id": "d0FVWJnT1dFB",
        "outputId": "d8f010b7-4e02-40ee-f166-082b7af13905"
      },
      "execution_count": 10,
      "outputs": [
        {
          "output_type": "stream",
          "name": "stdout",
          "text": [
            "Optimal value: 46.0 \n",
            "x values: [5. 3.] \n",
            "Number of iterations performed: 3 \n",
            "Status\" Optimization terminated successfully. (HiGHS Status 7: Optimal)\n"
          ]
        }
      ]
    },
    {
      "cell_type": "code",
      "source": [
        "# 1. Impor modul yang diperlukan dari SciPy\n",
        "from scipy.optimize import linprog\n",
        "\n",
        "# 2. Tentukan koefisien fungsi tujuan dan matriks batasan\n",
        "\n",
        "# Koefisien fungsi tujuan (z = 5x1 + 7x2)\n",
        "c = [-5, -7] # Karena kita ingin \"maksimalkan\" -5x1 -7x2, maka perlu diubah menjadi \"-5\" dan \"-7\".\n",
        "\n",
        "# Koefisien matriks batasan\n",
        "A = [\n",
        "    [1, 0], # 1x1 + 0x2 <= 16\n",
        "    [2, 3], # 2x1 + 3x2 <= 19\n",
        "    [1, 1]  # 1x1 + 1x2 <= 8\n",
        "]\n",
        "\n",
        "# Batasan kanan (rhs) dari masing-masing batasan\n",
        "b = [16, 19, 8]\n",
        "\n",
        "# 3. tentukan batasan variabel x1 dan x2 sebagai variabel non-negatif\n",
        "x1_bounds = (0, None) # x1 >= 0\n",
        "x2_bounds = (0, None) # x2 >= 0\n",
        "\n",
        "# 4. Gunakan linprog untuk menyelesaikan masalah pemrograman linier\n",
        "result = linprog(c, A_ub=A, b_ub=b, bounds=[x1_bounds, x2_bounds], method=\"highs\")\n",
        "\n",
        "# 5. Tampilkan hasilnya\n",
        "# Hasil optimasi\n",
        "print(\"Optimal Solution:\")\n",
        "print(\"x1 =\", result.x[0])\n",
        "print(\"x2 =\", result.x[1])\n",
        "print(\"Max Z =\", -result.fun) # Karena tujuannya adalah memaksimalkan -Z"
      ],
      "metadata": {
        "colab": {
          "base_uri": "https://localhost:8080/"
        },
        "id": "RSLGKVeZ1dHW",
        "outputId": "7fdc6143-18c9-4dbc-9e48-97ebad3a7100"
      },
      "execution_count": 11,
      "outputs": [
        {
          "output_type": "stream",
          "name": "stdout",
          "text": [
            "Optimal Solution:\n",
            "x1 = 5.0\n",
            "x2 = 3.0\n",
            "Max Z = 46.0\n"
          ]
        }
      ]
    },
    {
      "cell_type": "code",
      "source": [
        "from scipy.optimize import linprog\n",
        "#latihan dengan scipy\n",
        "#1\n",
        "\n",
        "# Fungsi objektif untuk mencari nilai x dan y\n",
        "c = [-1, -1]  # Karena linprog mencari minimum, kita gunakan koefisien -1 untuk mencari nilai maksimum dari -x dan -y.\n",
        "\n",
        "# Batasan persamaan\n",
        "A_eq = [[4, 12]]  # Matriks koefisien persamaan\n",
        "b_eq = [28]  # Hasil dari persamaan\n",
        "\n",
        "# Batasan variabel\n",
        "x_bounds = (0, None)\n",
        "y_bounds = (0, None)\n",
        "\n",
        "# Solusi pemrograman linear\n",
        "result = linprog(c, A_eq=A_eq, b_eq=b_eq, bounds=[x_bounds, y_bounds])\n",
        "\n",
        "if result.success:\n",
        "    x, y = result.x\n",
        "    max_value = -result.fun  # Kita mengambil nilai maksimum dari -x dan -y.\n",
        "\n",
        "    print(\"Nilai x:\", x)\n",
        "    print(\"Nilai y:\", y)\n",
        "    print(\"Nilai maksimum (x + y):\", max_value)\n",
        "else:\n",
        "    print(\"Tidak ada solusi optimal yang ditemukan.\")"
      ],
      "metadata": {
        "colab": {
          "base_uri": "https://localhost:8080/"
        },
        "id": "D8zjIKSH1dJ9",
        "outputId": "6e15f0f3-c00a-4d4f-a896-95c9d18bd445"
      },
      "execution_count": 12,
      "outputs": [
        {
          "output_type": "stream",
          "name": "stdout",
          "text": [
            "Nilai x: 7.0\n",
            "Nilai y: 0.0\n",
            "Nilai maksimum (x + y): 7.0\n"
          ]
        }
      ]
    },
    {
      "cell_type": "code",
      "source": [
        "from scipy.optimize import linprog\n",
        "#latihan dengan scipy\n",
        "#2\n",
        "\n",
        "# Fungsi objektif (karena linprog mencari minimum, kita perlu mengubah tanda)\n",
        "c = [-1, -1]  # Kita gunakan koefisien -1 untuk mencari maksimum dari -x dan -y.\n",
        "\n",
        "# Batasan persamaan\n",
        "A_eq = [[2, 1]]  # Matriks koefisien persamaan\n",
        "b_eq = [21]  # Hasil dari persamaan\n",
        "\n",
        "# Batasan variabel\n",
        "x_bounds = (0, None)\n",
        "y_bounds = (0, None)\n",
        "\n",
        "# Solusi pemrograman linear\n",
        "result = linprog(c, A_eq=A_eq, b_eq=b_eq, bounds=[x_bounds, y_bounds])\n",
        "\n",
        "if result.success:\n",
        "    x, y = result.x\n",
        "    max_value = -result.fun  # Kita mengambil maksimum dari -x dan -y.\n",
        "\n",
        "    print(\"Nilai x:\", x)\n",
        "    print(\"Nilai y:\", y)\n",
        "    print(\"Nilai maksimum (x + y):\", max_value)\n",
        "else:\n",
        "    print(\"Tidak ada solusi optimal yang ditemukan.\")"
      ],
      "metadata": {
        "colab": {
          "base_uri": "https://localhost:8080/"
        },
        "id": "n_Nf5PwqB55T",
        "outputId": "3bd0ac66-66cd-4210-d081-bd3a39b944a2"
      },
      "execution_count": 13,
      "outputs": [
        {
          "output_type": "stream",
          "name": "stdout",
          "text": [
            "Nilai x: 0.0\n",
            "Nilai y: 21.0\n",
            "Nilai maksimum (x + y): 21.0\n"
          ]
        }
      ]
    },
    {
      "cell_type": "code",
      "source": [
        "from scipy.optimize import linprog\n",
        "#latihan dengan scipy\n",
        "#3\n",
        "# Fungsi objektif (karena linprog mencari minimum, kita perlu mengubah tanda)\n",
        "c = [-3, -4]\n",
        "\n",
        "# Batasan-batasan\n",
        "A = [\n",
        "    [-3, -4],\n",
        "    [-1, -1]\n",
        "]\n",
        "\n",
        "b = [-55, -16]\n",
        "\n",
        "# Batasan variabel\n",
        "L_bounds = (0, None)\n",
        "M_bounds = (0, None)\n",
        "\n",
        "# Solusi pemrograman linear\n",
        "result = linprog(c, A_ub=A, b_ub=b, bounds=[L_bounds, M_bounds])\n",
        "\n",
        "if result.success:\n",
        "    L, M = result.x\n",
        "    min_value = result.fun\n",
        "\n",
        "    print(\"Jam kerja Lisa (L):\", L)\n",
        "    print(\"Jam kerja Muri (M):\", M)\n",
        "    print(\"Nilai minimum:\", min_value)\n",
        "else:\n",
        "    print(\"Tidak ada solusi optimal yang ditemukan.\")"
      ],
      "metadata": {
        "colab": {
          "base_uri": "https://localhost:8080/"
        },
        "id": "__1hE8w5JXk2",
        "outputId": "1cf2dc87-74d9-42e8-d03d-f53c53b7c7a9"
      },
      "execution_count": 14,
      "outputs": [
        {
          "output_type": "stream",
          "name": "stdout",
          "text": [
            "Tidak ada solusi optimal yang ditemukan.\n"
          ]
        }
      ]
    }
  ]
}