{
  "nbformat": 4,
  "nbformat_minor": 0,
  "metadata": {
    "colab": {
      "provenance": [],
      "authorship_tag": "ABX9TyNOcwcvwg7AMUvKbghh5ejV",
      "include_colab_link": true
    },
    "kernelspec": {
      "name": "python3",
      "display_name": "Python 3"
    },
    "language_info": {
      "name": "python"
    }
  },
  "cells": [
    {
      "cell_type": "markdown",
      "metadata": {
        "id": "view-in-github",
        "colab_type": "text"
      },
      "source": [
        "<a href=\"https://colab.research.google.com/github/MuhamadFahmiii/Desain-Analisis-Algoritma/blob/main/tugas%20pertemuan%202.ipynb\" target=\"_parent\"><img src=\"https://colab.research.google.com/assets/colab-badge.svg\" alt=\"Open In Colab\"/></a>"
      ]
    },
    {
      "cell_type": "code",
      "source": [
        "import numpy as np\n"
      ],
      "metadata": {
        "id": "RESbLIwOM5I3"
      },
      "execution_count": 18,
      "outputs": []
    },
    {
      "cell_type": "code",
      "execution_count": null,
      "metadata": {
        "colab": {
          "base_uri": "https://localhost:8080/"
        },
        "id": "7KXsYR-kIAPI",
        "outputId": "14176755-3349-4ce7-cc96-3f8eefd7374b"
      },
      "outputs": [
        {
          "output_type": "stream",
          "name": "stdout",
          "text": [
            "[1, 2, 3, 4, 5, 6]\n"
          ]
        }
      ],
      "source": [
        "import numpy as np\n",
        "\n",
        "\n",
        "a = [1,2,3,]\n",
        "b = [4,5,6]\n",
        "hasil = a + b\n",
        "\n",
        "print(hasil)"
      ]
    },
    {
      "cell_type": "code",
      "source": [
        "import numpy as np\n",
        "def add(list_a, list_b):\n",
        "  result = []\n",
        "  for first, second in zip(list_a, list_b):\n",
        "    result.append(first + second)\n",
        "  result"
      ],
      "metadata": {
        "id": "S5dr07ytNr4q"
      },
      "execution_count": null,
      "outputs": []
    },
    {
      "cell_type": "code",
      "source": [
        "import numpy as np\n",
        "\n",
        "\n",
        "nilai_siswa = np.array([85, 55, 40, 90])\n",
        "\n",
        "print(nilai_siswa[3])"
      ],
      "metadata": {
        "colab": {
          "base_uri": "https://localhost:8080/"
        },
        "id": "KiLB0-ESIh4z",
        "outputId": "3d909067-5999-4be1-961c-ac8ac2d0ba2b"
      },
      "execution_count": null,
      "outputs": [
        {
          "output_type": "stream",
          "name": "stdout",
          "text": [
            "90\n"
          ]
        }
      ]
    },
    {
      "cell_type": "code",
      "source": [
        "import numpy as np\n",
        "print(np.__version__)"
      ],
      "metadata": {
        "colab": {
          "base_uri": "https://localhost:8080/"
        },
        "id": "zzGTdf0aOfHA",
        "outputId": "23bb0893-40dc-4ef4-d52b-b35a12836cda"
      },
      "execution_count": null,
      "outputs": [
        {
          "output_type": "stream",
          "name": "stdout",
          "text": [
            "1.23.5\n"
          ]
        }
      ]
    },
    {
      "cell_type": "markdown",
      "source": [
        "# Big O Notation\n",
        "## constant time(0(1)) complexity"
      ],
      "metadata": {
        "id": "vqgpjuimPocY"
      }
    },
    {
      "cell_type": "code",
      "source": [
        "import numpy as np\n",
        "\n",
        "print(\"Hello World\")\n",
        "print(\"Namas Saya Muhamad Fahmi \")\n",
        "print(\"Nim Saya 2022071026\")"
      ],
      "metadata": {
        "colab": {
          "base_uri": "https://localhost:8080/"
        },
        "id": "gn-IbITyPBoJ",
        "outputId": "c24d748b-dd31-4917-ea77-3b45d5cffec2"
      },
      "execution_count": null,
      "outputs": [
        {
          "output_type": "stream",
          "name": "stdout",
          "text": [
            "Hello World\n",
            "Namas Saya Muhamad Fahmi \n",
            "Nim Saya 2022071026\n"
          ]
        }
      ]
    },
    {
      "cell_type": "code",
      "source": [
        "import numpy as np\n",
        "\n",
        "if 5>2:\n",
        " print(\"Five is greates than two!\")"
      ],
      "metadata": {
        "colab": {
          "base_uri": "https://localhost:8080/"
        },
        "id": "FsqjCsloSm78",
        "outputId": "1f4aa3ac-c7cd-40bc-fd49-689433d3ec04"
      },
      "execution_count": null,
      "outputs": [
        {
          "output_type": "stream",
          "name": "stdout",
          "text": [
            "Five is greates than two!\n"
          ]
        }
      ]
    },
    {
      "cell_type": "code",
      "source": [
        "x = 5\n",
        "y = \"jhon\"\n",
        "print(x)\n",
        "print(y)"
      ],
      "metadata": {
        "colab": {
          "base_uri": "https://localhost:8080/"
        },
        "id": "aU9OFoEUTLpi",
        "outputId": "ec68ef76-8fe6-4bfe-c42e-3d100561d64d"
      },
      "execution_count": null,
      "outputs": [
        {
          "output_type": "stream",
          "name": "stdout",
          "text": [
            "5\n",
            "jhon\n"
          ]
        }
      ]
    },
    {
      "cell_type": "code",
      "source": [
        "x = 4\n",
        "x = \"sally\"\n",
        "\n",
        "print(x)\n"
      ],
      "metadata": {
        "colab": {
          "base_uri": "https://localhost:8080/"
        },
        "id": "6nPdO3KxTruK",
        "outputId": "6b277464-352a-41eb-8343-b9610051dde8"
      },
      "execution_count": null,
      "outputs": [
        {
          "output_type": "stream",
          "name": "stdout",
          "text": [
            "sally\n"
          ]
        }
      ]
    },
    {
      "cell_type": "code",
      "source": [
        "def getfirst(mylist):\n",
        "  return mylist[0]"
      ],
      "metadata": {
        "id": "Kh7dDbReUeEj"
      },
      "execution_count": null,
      "outputs": []
    },
    {
      "cell_type": "code",
      "source": [
        "getfirst([1,2,3])"
      ],
      "metadata": {
        "colab": {
          "base_uri": "https://localhost:8080/"
        },
        "id": "Ww4EkT7LUmGH",
        "outputId": "0f809b8d-c139-4f1f-fdbf-3676d2d514ff"
      },
      "execution_count": null,
      "outputs": [
        {
          "output_type": "execute_result",
          "data": {
            "text/plain": [
              "1"
            ]
          },
          "metadata": {},
          "execution_count": 22
        }
      ]
    },
    {
      "cell_type": "code",
      "source": [
        "getfirst([1,2,3])"
      ],
      "metadata": {
        "colab": {
          "base_uri": "https://localhost:8080/"
        },
        "id": "HpJMI52WUrQr",
        "outputId": "50c0fca9-ef2f-4eea-9b26-505591e1f6c4"
      },
      "execution_count": null,
      "outputs": [
        {
          "output_type": "execute_result",
          "data": {
            "text/plain": [
              "1"
            ]
          },
          "metadata": {},
          "execution_count": 23
        }
      ]
    },
    {
      "cell_type": "code",
      "source": [
        "getfirst([1,2,3,4,5,6,7,8,9,10])"
      ],
      "metadata": {
        "colab": {
          "base_uri": "https://localhost:8080/"
        },
        "id": "iVxy78RuUvrI",
        "outputId": "ce86e77e-5d5a-4762-b313-cb14a3f53204"
      },
      "execution_count": null,
      "outputs": [
        {
          "output_type": "execute_result",
          "data": {
            "text/plain": [
              "1"
            ]
          },
          "metadata": {},
          "execution_count": 24
        }
      ]
    },
    {
      "cell_type": "code",
      "source": [
        "def getsecond(mylist):\n",
        "  return mylist[1]"
      ],
      "metadata": {
        "id": "0c5l_YLxV9D6"
      },
      "execution_count": null,
      "outputs": []
    },
    {
      "cell_type": "code",
      "source": [
        "getsecond([1,2,3])"
      ],
      "metadata": {
        "colab": {
          "base_uri": "https://localhost:8080/"
        },
        "id": "8dlNbUYNWyvV",
        "outputId": "f66efefd-665d-4891-bd5e-ba1e86dccb19"
      },
      "execution_count": null,
      "outputs": [
        {
          "output_type": "execute_result",
          "data": {
            "text/plain": [
              "2"
            ]
          },
          "metadata": {},
          "execution_count": 34
        }
      ]
    },
    {
      "cell_type": "code",
      "source": [
        "getsecond([1,2,3])"
      ],
      "metadata": {
        "colab": {
          "base_uri": "https://localhost:8080/"
        },
        "id": "7JeG_Td1Wy17",
        "outputId": "d524b29f-81e1-43b1-9280-9e7af22c752c"
      },
      "execution_count": null,
      "outputs": [
        {
          "output_type": "execute_result",
          "data": {
            "text/plain": [
              "2"
            ]
          },
          "metadata": {},
          "execution_count": 35
        }
      ]
    },
    {
      "cell_type": "code",
      "source": [
        "getsecond([1,2,3,4,5,6,7,8,9,10])"
      ],
      "metadata": {
        "colab": {
          "base_uri": "https://localhost:8080/"
        },
        "outputId": "c2b23241-9baf-4cee-9d5a-4b747a1465ce",
        "id": "fFmHlqKiW2BT"
      },
      "execution_count": null,
      "outputs": [
        {
          "output_type": "execute_result",
          "data": {
            "text/plain": [
              "2"
            ]
          },
          "metadata": {},
          "execution_count": 36
        }
      ]
    },
    {
      "cell_type": "code",
      "source": [
        "def getlast(mylist):\n",
        "  return mylist[len(mylist)-1]"
      ],
      "metadata": {
        "id": "RjhUOnUKXK75"
      },
      "execution_count": null,
      "outputs": []
    },
    {
      "cell_type": "code",
      "source": [
        "getlast([1,2,3,4,5,6,7,8,9,10])"
      ],
      "metadata": {
        "colab": {
          "base_uri": "https://localhost:8080/"
        },
        "id": "1_tri2dTXrVi",
        "outputId": "ed09628c-7a81-433d-f937-b6e288154ce2"
      },
      "execution_count": null,
      "outputs": [
        {
          "output_type": "execute_result",
          "data": {
            "text/plain": [
              "10"
            ]
          },
          "metadata": {},
          "execution_count": 48
        }
      ]
    },
    {
      "cell_type": "code",
      "source": [
        "getlast([1,2,3,4])"
      ],
      "metadata": {
        "colab": {
          "base_uri": "https://localhost:8080/"
        },
        "id": "wpULiL71ZJWa",
        "outputId": "919c5b0a-2ff2-473c-ca29-dfdbf45b73b8"
      },
      "execution_count": null,
      "outputs": [
        {
          "output_type": "execute_result",
          "data": {
            "text/plain": [
              "4"
            ]
          },
          "metadata": {},
          "execution_count": 50
        }
      ]
    },
    {
      "cell_type": "code",
      "source": [
        "def getsum(mylist):\n",
        "  sum = 0\n",
        "  for item in mylist:\n",
        "    sum = sum + item\n",
        "  return sum\n",
        "  #perhatikan posisi spasi pada return"
      ],
      "metadata": {
        "id": "o79V1DKtYmke"
      },
      "execution_count": 35,
      "outputs": []
    },
    {
      "cell_type": "code",
      "source": [
        "getsum([1,2,3,4])"
      ],
      "metadata": {
        "colab": {
          "base_uri": "https://localhost:8080/"
        },
        "id": "zchjfXBmZbiQ",
        "outputId": "bb2560e5-450e-4ace-b5af-4d1d5388139c"
      },
      "execution_count": null,
      "outputs": [
        {
          "output_type": "execute_result",
          "data": {
            "text/plain": [
              "10"
            ]
          },
          "metadata": {},
          "execution_count": 81
        }
      ]
    },
    {
      "cell_type": "code",
      "source": [
        "getsum([1,2,3])"
      ],
      "metadata": {
        "colab": {
          "base_uri": "https://localhost:8080/"
        },
        "id": "kF6sQ1qqZbto",
        "outputId": "75afad91-eff3-4743-a1bf-23dfc172ed29"
      },
      "execution_count": null,
      "outputs": [
        {
          "output_type": "execute_result",
          "data": {
            "text/plain": [
              "6"
            ]
          },
          "metadata": {},
          "execution_count": 59
        }
      ]
    },
    {
      "cell_type": "code",
      "source": [
        "getsum([1,2,3,4])"
      ],
      "metadata": {
        "colab": {
          "base_uri": "https://localhost:8080/"
        },
        "id": "kG87lMceZcBe",
        "outputId": "361e2d5c-e187-4ae5-a9f7-e5bbbe523177"
      },
      "execution_count": null,
      "outputs": [
        {
          "output_type": "execute_result",
          "data": {
            "text/plain": [
              "10"
            ]
          },
          "metadata": {},
          "execution_count": 60
        }
      ]
    },
    {
      "cell_type": "code",
      "source": [
        "def getkali(mylist):\n",
        "  kali = 1\n",
        "  for item in mylist:\n",
        "    kali = kali * item\n",
        "  return kali"
      ],
      "metadata": {
        "id": "ZKsI76lteCLg"
      },
      "execution_count": null,
      "outputs": []
    },
    {
      "cell_type": "code",
      "source": [
        "getkali([1,2,3,4])"
      ],
      "metadata": {
        "colab": {
          "base_uri": "https://localhost:8080/"
        },
        "id": "AIW8_inXeKVL",
        "outputId": "849dfbd2-82c3-4f3c-be80-626dd708a54b"
      },
      "execution_count": null,
      "outputs": [
        {
          "output_type": "execute_result",
          "data": {
            "text/plain": [
              "24"
            ]
          },
          "metadata": {},
          "execution_count": 42
        }
      ]
    },
    {
      "cell_type": "code",
      "source": [
        "def getbagi(mylist):\n",
        "  bagi=1\n",
        "  for item in mylist:\n",
        "    bagi = bagi/item\n",
        "  return bagi"
      ],
      "metadata": {
        "id": "cbGUPMeIesDZ"
      },
      "execution_count": null,
      "outputs": []
    },
    {
      "cell_type": "code",
      "source": [
        "getbagi([1,2,3,4])"
      ],
      "metadata": {
        "colab": {
          "base_uri": "https://localhost:8080/"
        },
        "id": "DjTj06SHezGO",
        "outputId": "2a1d5308-6343-4d58-ca77-9b10a9f6c1fa"
      },
      "execution_count": null,
      "outputs": [
        {
          "output_type": "execute_result",
          "data": {
            "text/plain": [
              "0.041666666666666664"
            ]
          },
          "metadata": {},
          "execution_count": 40
        }
      ]
    },
    {
      "cell_type": "code",
      "source": [
        "def getaverage(mylist):\n",
        "    total = 0\n",
        "    for item in mylist:\n",
        "        total += item\n",
        "\n",
        "    if len(mylist) > 0:\n",
        "        rata_rata = total / len(mylist)\n",
        "        return rata_rata\n",
        "    else:\n",
        "        return 0"
      ],
      "metadata": {
        "id": "retOIFDVk2tU"
      },
      "execution_count": null,
      "outputs": []
    },
    {
      "cell_type": "code",
      "source": [
        "getaverage([1,2,3,4,5,6,7,8])"
      ],
      "metadata": {
        "colab": {
          "base_uri": "https://localhost:8080/"
        },
        "id": "OfifidhDna6t",
        "outputId": "69b111d7-3ffc-49aa-a42d-405d9d66b375"
      },
      "execution_count": null,
      "outputs": [
        {
          "output_type": "execute_result",
          "data": {
            "text/plain": [
              "4.5"
            ]
          },
          "metadata": {},
          "execution_count": 56
        }
      ]
    },
    {
      "cell_type": "code",
      "source": [
        "def getsum(mylist):\n",
        "  sum = 0\n",
        "  for row in mylist:\n",
        "    for item in row:\n",
        "      sum = sum+item\n",
        "  return sum"
      ],
      "metadata": {
        "id": "FXnjOUoRfnVa"
      },
      "execution_count": 49,
      "outputs": []
    },
    {
      "cell_type": "code",
      "source": [
        "getsum([[1,2,3],[4,5,6]])"
      ],
      "metadata": {
        "colab": {
          "base_uri": "https://localhost:8080/"
        },
        "id": "COv6UzS3f9aE",
        "outputId": "200141de-844e-4aa2-d210-f3be63e59cce"
      },
      "execution_count": 50,
      "outputs": [
        {
          "output_type": "execute_result",
          "data": {
            "text/plain": [
              "21"
            ]
          },
          "metadata": {},
          "execution_count": 50
        }
      ]
    },
    {
      "cell_type": "code",
      "source": [
        "getsum([[1,2],[3,4]])"
      ],
      "metadata": {
        "colab": {
          "base_uri": "https://localhost:8080/"
        },
        "id": "WS8th57sf9ea",
        "outputId": "a1b090fc-e301-46cb-8a0e-82480cef7ec1"
      },
      "execution_count": 51,
      "outputs": [
        {
          "output_type": "execute_result",
          "data": {
            "text/plain": [
              "10"
            ]
          },
          "metadata": {},
          "execution_count": 51
        }
      ]
    },
    {
      "cell_type": "code",
      "source": [
        "getsum([[1,2,5],[3,4,7]])"
      ],
      "metadata": {
        "colab": {
          "base_uri": "https://localhost:8080/"
        },
        "id": "U2mBtvCkf9h3",
        "outputId": "4d242bf3-72b6-4d38-9ad6-b3061516c10f"
      },
      "execution_count": 52,
      "outputs": [
        {
          "output_type": "execute_result",
          "data": {
            "text/plain": [
              "22"
            ]
          },
          "metadata": {},
          "execution_count": 52
        }
      ]
    },
    {
      "cell_type": "code",
      "source": [
        "import numpy as np\n",
        "\n",
        "a = [1,2,3]\n",
        "b = [4,5,6]\n",
        "\n",
        "def bagi(list_a,list_b):\n",
        "    result = []\n",
        "    for first, second in zip(list_a,list_b):\n",
        "      result.append(first / second)\n",
        "    return result\n",
        "bagi(a,b)"
      ],
      "metadata": {
        "colab": {
          "base_uri": "https://localhost:8080/"
        },
        "id": "w2JSl6r4oeAR",
        "outputId": "27a63b14-0316-4d10-b750-b649d4777308"
      },
      "execution_count": 53,
      "outputs": [
        {
          "output_type": "execute_result",
          "data": {
            "text/plain": [
              "[0.25, 0.4, 0.5]"
            ]
          },
          "metadata": {},
          "execution_count": 53
        }
      ]
    },
    {
      "cell_type": "code",
      "source": [
        "import numpy as np\n",
        "\n",
        "a = [1,2,3]\n",
        "b = [4,5,6]\n",
        "\n",
        "def kurang(list_a,list_b):\n",
        "    result = []\n",
        "    for first, second in zip(list_a,list_b):\n",
        "      result.append(first - second)\n",
        "    return result\n",
        "kurang(a,b)"
      ],
      "metadata": {
        "colab": {
          "base_uri": "https://localhost:8080/"
        },
        "id": "KpTB_dgMsfSe",
        "outputId": "14a61a9a-d7af-4552-9243-67336080d649"
      },
      "execution_count": 54,
      "outputs": [
        {
          "output_type": "execute_result",
          "data": {
            "text/plain": [
              "[-3, -3, -3]"
            ]
          },
          "metadata": {},
          "execution_count": 54
        }
      ]
    },
    {
      "cell_type": "code",
      "source": [
        "x = ([1,2,3,4,5])\n",
        "y = ([1,2,3,4,5])\n",
        "hasil = sum(x) / sum(y)\n",
        "print(hasil)"
      ],
      "metadata": {
        "colab": {
          "base_uri": "https://localhost:8080/"
        },
        "id": "sINnGMlwmbSF",
        "outputId": "eb623390-6dd4-46ad-e0c2-6a1c1339bdf7"
      },
      "execution_count": 55,
      "outputs": [
        {
          "output_type": "stream",
          "name": "stdout",
          "text": [
            "1.0\n"
          ]
        }
      ]
    }
  ]
}