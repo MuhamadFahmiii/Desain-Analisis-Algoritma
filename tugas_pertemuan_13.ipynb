{
  "nbformat": 4,
  "nbformat_minor": 0,
  "metadata": {
    "colab": {
      "provenance": [],
      "include_colab_link": true
    },
    "kernelspec": {
      "name": "python3",
      "display_name": "Python 3"
    },
    "language_info": {
      "name": "python"
    }
  },
  "cells": [
    {
      "cell_type": "markdown",
      "metadata": {
        "id": "view-in-github",
        "colab_type": "text"
      },
      "source": [
        "<a href=\"https://colab.research.google.com/github/MuhamadFahmiii/Desain-Analisis-Algoritma/blob/main/tugas_pertemuan_13.ipynb\" target=\"_parent\"><img src=\"https://colab.research.google.com/assets/colab-badge.svg\" alt=\"Open In Colab\"/></a>"
      ]
    },
    {
      "cell_type": "markdown",
      "source": [
        "**Implementasi Algoritma Breadth-first Search**"
      ],
      "metadata": {
        "id": "l6jLo8c8Drgk"
      }
    },
    {
      "cell_type": "markdown",
      "source": [
        "**FIRST SEARCH ITU MELAKUKAN LEVEL KE SAMPING**"
      ],
      "metadata": {
        "id": "jBRcENOYS8jf"
      }
    },
    {
      "cell_type": "code",
      "execution_count": 1,
      "metadata": {
        "id": "vjBHbHWDCKpe"
      },
      "outputs": [],
      "source": [
        "def bfs(graph, start):\n",
        "  visited = []\n",
        "  queue = [start]\n",
        "\n",
        "  while queue:\n",
        "    node = queue.pop(0)\n",
        "    if node not in visited:\n",
        "      visited.append(node)\n",
        "      neighbours = graph[node]\n",
        "      for neighbour in neighbours :\n",
        "        queue.append(neighbour)\n",
        "  return visited"
      ]
    },
    {
      "cell_type": "code",
      "source": [
        "graph={'Amin' : {'Wasim', 'Nick', 'Mike'},\n",
        "       'Wasim' : {'Imran', 'Amin'},\n",
        "       'Imran' : {'Wasim','Faras'},\n",
        "       'Faras' : {'Imran'},\n",
        "       'Mike' : {'Amin'},\n",
        "       'Nick' : {'Amin'}}"
      ],
      "metadata": {
        "id": "SWIBEY0NDeRS"
      },
      "execution_count": 2,
      "outputs": []
    },
    {
      "cell_type": "code",
      "source": [
        "#O Amin------------\n",
        "#|        |       |\n",
        "#O Wasim  O Nick  O Mike\n",
        "#|\n",
        "#O Imran\n",
        "#|\n",
        "#O Faras\n",
        "\n",
        "bfs(graph, 'Amin')"
      ],
      "metadata": {
        "colab": {
          "base_uri": "https://localhost:8080/"
        },
        "id": "HCjoe5SJEH8p",
        "outputId": "e5f689fd-6317-4fd8-980c-94b7ae7b2d6a"
      },
      "execution_count": 3,
      "outputs": [
        {
          "output_type": "execute_result",
          "data": {
            "text/plain": [
              "['Amin', 'Nick', 'Wasim', 'Mike', 'Imran', 'Faras']"
            ]
          },
          "metadata": {},
          "execution_count": 3
        }
      ]
    },
    {
      "cell_type": "markdown",
      "source": [
        "**Yang diatas level 1 = (Amin), level 2 = (Wasim, Nick, Mike), level 3 = (Imran), level 4 (Faras)**"
      ],
      "metadata": {
        "id": "cnRagIWNFovy"
      }
    },
    {
      "cell_type": "code",
      "source": [
        "#O Wasim-------\n",
        "#|            |\n",
        "#O Imran      O Amin-----\n",
        "#|            |         |\n",
        "#O Faras      O Nick    O Mike\n",
        "\n",
        "bfs(graph,'Wasim')"
      ],
      "metadata": {
        "colab": {
          "base_uri": "https://localhost:8080/"
        },
        "id": "v-YX1tCrE0JQ",
        "outputId": "69c45ad8-154b-4e53-e481-d26e2c5d8266"
      },
      "execution_count": 4,
      "outputs": [
        {
          "output_type": "execute_result",
          "data": {
            "text/plain": [
              "['Wasim', 'Imran', 'Amin', 'Faras', 'Nick', 'Mike']"
            ]
          },
          "metadata": {},
          "execution_count": 4
        }
      ]
    },
    {
      "cell_type": "markdown",
      "source": [
        "**Yang diatas level 1 = (Wasim), level 2 = (Imran, Amin), level 3 = (Faras, Nick, Mike)**"
      ],
      "metadata": {
        "id": "y7cZQascGFOK"
      }
    },
    {
      "cell_type": "code",
      "source": [
        "#O Faras\n",
        "#|\n",
        "#O Imran\n",
        "#|\n",
        "#O Wasim  O Nick  O Mike\n",
        "#|        |       |\n",
        "#O Amin------------\n",
        "\n",
        "bfs(graph, 'Faras')"
      ],
      "metadata": {
        "colab": {
          "base_uri": "https://localhost:8080/"
        },
        "id": "MA_rCntoGUgN",
        "outputId": "f0c46a33-e9a3-405e-b8af-4dc119637ad0"
      },
      "execution_count": 5,
      "outputs": [
        {
          "output_type": "execute_result",
          "data": {
            "text/plain": [
              "['Faras', 'Imran', 'Wasim', 'Amin', 'Nick', 'Mike']"
            ]
          },
          "metadata": {},
          "execution_count": 5
        }
      ]
    },
    {
      "cell_type": "markdown",
      "source": [
        "**Yang diatas faras hanya mengenal imron, imron mengenal wasim --> amin --> nick --> mike**"
      ],
      "metadata": {
        "id": "oAhOHq0hGfW3"
      }
    },
    {
      "cell_type": "markdown",
      "source": [
        "**LATIHAN 1**"
      ],
      "metadata": {
        "id": "eeL1A85dTxjd"
      }
    },
    {
      "cell_type": "code",
      "source": [
        "graph={'Rektor' : {'Warek1', 'Warek2'},\n",
        "       'Warek1' : {'Rektor'},\n",
        "       'Warek2' : {'Rektor','Kaprodi1', 'Kaprodi2','Kaprodi3'},\n",
        "       'Kaprodi1' : {'Warek2','Dosen A','Dosen B','Dosen C'},\n",
        "       'Dosen A' : {'Kaprodi1'},\n",
        "       'Dosen B' : {'Kaprodi1'},\n",
        "       'Dosen C' : {'Kaprodi1'},\n",
        "       'Kaprodi2' : {'Warek2','Dosen D','Dosen E'},\n",
        "       'Dosen D' : {'Kaprodi2'},\n",
        "       'Dosen E' : {'Kaprodi2'},\n",
        "       'Kaprodi3' : {'Warek2','Dosen F','Dosen G'},\n",
        "       'Dosen F': {'Kaprodi3'},\n",
        "       'Dosen G' : {'Kaprodi3'}}"
      ],
      "metadata": {
        "id": "pgL7lP6SHT74"
      },
      "execution_count": 6,
      "outputs": []
    },
    {
      "cell_type": "code",
      "source": [
        "bfs(graph, 'Rektor')"
      ],
      "metadata": {
        "colab": {
          "base_uri": "https://localhost:8080/"
        },
        "id": "kwut6xj4HboC",
        "outputId": "df83d052-840e-455d-fe2f-69dc397ec262"
      },
      "execution_count": 7,
      "outputs": [
        {
          "output_type": "execute_result",
          "data": {
            "text/plain": [
              "['Rektor',\n",
              " 'Warek2',\n",
              " 'Warek1',\n",
              " 'Kaprodi3',\n",
              " 'Kaprodi1',\n",
              " 'Kaprodi2',\n",
              " 'Dosen G',\n",
              " 'Dosen F',\n",
              " 'Dosen C',\n",
              " 'Dosen B',\n",
              " 'Dosen A',\n",
              " 'Dosen D',\n",
              " 'Dosen E']"
            ]
          },
          "metadata": {},
          "execution_count": 7
        }
      ]
    },
    {
      "cell_type": "code",
      "source": [
        "bfs(graph, 'Dosen B')"
      ],
      "metadata": {
        "colab": {
          "base_uri": "https://localhost:8080/"
        },
        "id": "Git3Qk8TMORA",
        "outputId": "2e79bb2e-5971-4607-d7d3-3f3d203eb462"
      },
      "execution_count": 8,
      "outputs": [
        {
          "output_type": "execute_result",
          "data": {
            "text/plain": [
              "['Dosen B',\n",
              " 'Kaprodi1',\n",
              " 'Dosen C',\n",
              " 'Warek2',\n",
              " 'Dosen A',\n",
              " 'Rektor',\n",
              " 'Kaprodi3',\n",
              " 'Kaprodi2',\n",
              " 'Warek1',\n",
              " 'Dosen G',\n",
              " 'Dosen F',\n",
              " 'Dosen D',\n",
              " 'Dosen E']"
            ]
          },
          "metadata": {},
          "execution_count": 8
        }
      ]
    },
    {
      "cell_type": "code",
      "source": [
        "bfs(graph, 'Kaprodi2')"
      ],
      "metadata": {
        "colab": {
          "base_uri": "https://localhost:8080/"
        },
        "id": "ZLc5zdLLPza9",
        "outputId": "cc7ab0ea-a9e3-4421-b879-6f2165844adb"
      },
      "execution_count": 9,
      "outputs": [
        {
          "output_type": "execute_result",
          "data": {
            "text/plain": [
              "['Kaprodi2',\n",
              " 'Dosen D',\n",
              " 'Warek2',\n",
              " 'Dosen E',\n",
              " 'Rektor',\n",
              " 'Kaprodi3',\n",
              " 'Kaprodi1',\n",
              " 'Warek1',\n",
              " 'Dosen G',\n",
              " 'Dosen F',\n",
              " 'Dosen C',\n",
              " 'Dosen B',\n",
              " 'Dosen A']"
            ]
          },
          "metadata": {},
          "execution_count": 9
        }
      ]
    },
    {
      "cell_type": "markdown",
      "source": [
        "**IMPLEMENTASI ALGORITMA DEPTH FIRST SEARCH**"
      ],
      "metadata": {
        "id": "M_-ndEWQKbSE"
      }
    },
    {
      "cell_type": "markdown",
      "source": [
        "**(DEPT ITU MELAKUKAN LEVEL KEBAWAH)**"
      ],
      "metadata": {
        "id": "ci6fY_eOSrTa"
      }
    },
    {
      "cell_type": "code",
      "source": [
        "def dfs(graph, start, visited=None):\n",
        "  if visited is None:\n",
        "    visited = set()\n",
        "  visited.add(start)\n",
        "  print(start)\n",
        "  for next in graph[start] - visited:\n",
        "    dfs(graph, next, visited)\n",
        "  return visited"
      ],
      "metadata": {
        "id": "wV5x-dcCKjU7"
      },
      "execution_count": 10,
      "outputs": []
    },
    {
      "cell_type": "code",
      "source": [
        "graph={ 'Amin' : {'Wasim', 'Nick', 'Mike'},\n",
        "       'Wasim' : {'Imran', 'Amin'},\n",
        "       'Imran' : {'Wasim','Faras'},\n",
        "       'Faras' : {'Imran'},\n",
        "       'Mike' : {'Amin'},\n",
        "       'Nick' : {'Amin'}}"
      ],
      "metadata": {
        "id": "PGlr0QlSKpre"
      },
      "execution_count": 11,
      "outputs": []
    },
    {
      "cell_type": "code",
      "source": [
        "#O Amin -----------\n",
        "#|        |       |\n",
        "#O Wasim  O Nick  O Mike\n",
        "#|\n",
        "#O Imran\n",
        "#|\n",
        "#O Faras\n",
        "\n",
        "dfs(graph, 'Amin')"
      ],
      "metadata": {
        "colab": {
          "base_uri": "https://localhost:8080/"
        },
        "id": "YfNYyns6Slfa",
        "outputId": "0c746081-8459-484b-8ba3-6181e3dfb0fe"
      },
      "execution_count": 12,
      "outputs": [
        {
          "output_type": "stream",
          "name": "stdout",
          "text": [
            "Amin\n",
            "Nick\n",
            "Wasim\n",
            "Imran\n",
            "Faras\n",
            "Mike\n"
          ]
        },
        {
          "output_type": "execute_result",
          "data": {
            "text/plain": [
              "{'Amin', 'Faras', 'Imran', 'Mike', 'Nick', 'Wasim'}"
            ]
          },
          "metadata": {},
          "execution_count": 12
        }
      ]
    },
    {
      "cell_type": "code",
      "source": [
        "#O Wasim-------\n",
        "#|            |\n",
        "#O Imran      O Amin-----\n",
        "#|            |         |\n",
        "#O Faras      O Nick    O Mike\n",
        "\n",
        "dfs(graph,'Wasim')"
      ],
      "metadata": {
        "colab": {
          "base_uri": "https://localhost:8080/"
        },
        "id": "_Oy-mD5aTREi",
        "outputId": "8f7d584b-4f13-453b-d499-aea0f6401f80"
      },
      "execution_count": 13,
      "outputs": [
        {
          "output_type": "stream",
          "name": "stdout",
          "text": [
            "Wasim\n",
            "Imran\n",
            "Faras\n",
            "Amin\n",
            "Nick\n",
            "Mike\n"
          ]
        },
        {
          "output_type": "execute_result",
          "data": {
            "text/plain": [
              "{'Amin', 'Faras', 'Imran', 'Mike', 'Nick', 'Wasim'}"
            ]
          },
          "metadata": {},
          "execution_count": 13
        }
      ]
    },
    {
      "cell_type": "code",
      "source": [
        "#O Faras\n",
        "#|\n",
        "#O Imran\n",
        "#|\n",
        "#O Wasim  O Nick  O Mike\n",
        "#|        |       |\n",
        "#O Amin------------\n",
        "\n",
        "dfs(graph, 'Faras')"
      ],
      "metadata": {
        "colab": {
          "base_uri": "https://localhost:8080/"
        },
        "id": "L3CLX3lhTd2s",
        "outputId": "7831031e-584e-49e5-87ac-fecf891b50d0"
      },
      "execution_count": 14,
      "outputs": [
        {
          "output_type": "stream",
          "name": "stdout",
          "text": [
            "Faras\n",
            "Imran\n",
            "Wasim\n",
            "Amin\n",
            "Nick\n",
            "Mike\n"
          ]
        },
        {
          "output_type": "execute_result",
          "data": {
            "text/plain": [
              "{'Amin', 'Faras', 'Imran', 'Mike', 'Nick', 'Wasim'}"
            ]
          },
          "metadata": {},
          "execution_count": 14
        }
      ]
    },
    {
      "cell_type": "code",
      "source": [
        "#O Nick------\n",
        "#|          |\n",
        "#O Amin     O Mike\n",
        "#|\n",
        "#O Wasim\n",
        "#|\n",
        "#O Imran\n",
        "#|\n",
        "#O Faras\n",
        "\n",
        "dfs(graph, 'Nick')"
      ],
      "metadata": {
        "colab": {
          "base_uri": "https://localhost:8080/"
        },
        "id": "twZIuJL6Tiri",
        "outputId": "eed42359-4557-494a-fd32-3e3836b943c7"
      },
      "execution_count": 15,
      "outputs": [
        {
          "output_type": "stream",
          "name": "stdout",
          "text": [
            "Nick\n",
            "Amin\n",
            "Wasim\n",
            "Imran\n",
            "Faras\n",
            "Mike\n"
          ]
        },
        {
          "output_type": "execute_result",
          "data": {
            "text/plain": [
              "{'Amin', 'Faras', 'Imran', 'Mike', 'Nick', 'Wasim'}"
            ]
          },
          "metadata": {},
          "execution_count": 15
        }
      ]
    },
    {
      "cell_type": "markdown",
      "source": [
        "**LATIHAN 2**"
      ],
      "metadata": {
        "id": "f2pIEo20T3Ai"
      }
    },
    {
      "cell_type": "code",
      "source": [
        "graph={'Rektor' : {'Warek1', 'Warek2'},\n",
        "       'Warek1' : {'Rektor'},\n",
        "       'Warek2' : {'Rektor','Kaprodi1', 'Kaprodi2','Kaprodi3'},\n",
        "       'Kaprodi1' : {'Warek2','Dosen A','Dosen B','Dosen C'},\n",
        "       'Dosen A' : {'Kaprodi1'},\n",
        "       'Dosen B' : {'Kaprodi1'},\n",
        "       'Dosen C' : {'Kaprodi1'},\n",
        "       'Kaprodi2' : {'Warek2','Dosen D','Dosen E'},\n",
        "       'Dosen D' : {'Kaprodi2'},\n",
        "       'Dosen E' : {'Kaprodi2'},\n",
        "       'Kaprodi3' : {'Warek2','Dosen F','Dosen G'},\n",
        "       'Dosen F': {'Kaprodi3'},\n",
        "       'Dosen G' : {'Kaprodi3'}}\n",
        "\n",
        "dfs(graph, 'Rektor')"
      ],
      "metadata": {
        "colab": {
          "base_uri": "https://localhost:8080/"
        },
        "id": "HuRjivqvUC2h",
        "outputId": "e0e2f23c-e245-42c8-8bc0-aa34f97b2ec7"
      },
      "execution_count": 16,
      "outputs": [
        {
          "output_type": "stream",
          "name": "stdout",
          "text": [
            "Rektor\n",
            "Warek2\n",
            "Kaprodi3\n",
            "Dosen G\n",
            "Dosen F\n",
            "Kaprodi1\n",
            "Dosen C\n",
            "Dosen B\n",
            "Dosen A\n",
            "Kaprodi2\n",
            "Dosen D\n",
            "Dosen E\n",
            "Warek1\n"
          ]
        },
        {
          "output_type": "execute_result",
          "data": {
            "text/plain": [
              "{'Dosen A',\n",
              " 'Dosen B',\n",
              " 'Dosen C',\n",
              " 'Dosen D',\n",
              " 'Dosen E',\n",
              " 'Dosen F',\n",
              " 'Dosen G',\n",
              " 'Kaprodi1',\n",
              " 'Kaprodi2',\n",
              " 'Kaprodi3',\n",
              " 'Rektor',\n",
              " 'Warek1',\n",
              " 'Warek2'}"
            ]
          },
          "metadata": {},
          "execution_count": 16
        }
      ]
    }
  ]
}