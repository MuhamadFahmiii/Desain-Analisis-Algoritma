{
  "nbformat": 4,
  "nbformat_minor": 0,
  "metadata": {
    "colab": {
      "provenance": [],
      "include_colab_link": true
    },
    "kernelspec": {
      "name": "python3",
      "display_name": "Python 3"
    },
    "language_info": {
      "name": "python"
    }
  },
  "cells": [
    {
      "cell_type": "markdown",
      "metadata": {
        "id": "view-in-github",
        "colab_type": "text"
      },
      "source": [
        "<a href=\"https://colab.research.google.com/github/MuhamadFahmiii/Desain-Analisis-Algoritma/blob/main/tugas_pertemuan_13.ipynb\" target=\"_parent\"><img src=\"https://colab.research.google.com/assets/colab-badge.svg\" alt=\"Open In Colab\"/></a>"
      ]
    },
    {
      "cell_type": "markdown",
      "source": [
        "**Implementasi Algoritma Breadth-first Search**"
      ],
      "metadata": {
        "id": "l6jLo8c8Drgk"
      }
    },
    {
      "cell_type": "markdown",
      "source": [
        "**FIRST SEARCH ITU MELAKUKAN LEVEL KE SAMPING**"
      ],
      "metadata": {
        "id": "jBRcENOYS8jf"
      }
    },
    {
      "cell_type": "code",
      "execution_count": 109,
      "metadata": {
        "id": "vjBHbHWDCKpe"
      },
      "outputs": [],
      "source": [
        "def bfs(graph, start):\n",
        "  visited = []\n",
        "  queue = [start]\n",
        "\n",
        "  while queue:\n",
        "    node = queue.pop(0)\n",
        "    if node not in visited:\n",
        "      visited.append(node)\n",
        "      neighbours = graph[node]\n",
        "      for neighbour in neighbours :\n",
        "        queue.append(neighbour)\n",
        "  return visited"
      ]
    },
    {
      "cell_type": "code",
      "source": [
        "graph={'Amin' : {'Wasim', 'Nick', 'Mike'},\n",
        "       'Wasim' : {'Imran', 'Amin'},\n",
        "       'Imran' : {'Wasim','Faras'},\n",
        "       'Faras' : {'Imran'},\n",
        "       'Mike' : {'Amin'},\n",
        "       'Nick' : {'Amin'}}"
      ],
      "metadata": {
        "id": "SWIBEY0NDeRS"
      },
      "execution_count": 110,
      "outputs": []
    },
    {
      "cell_type": "code",
      "source": [
        "#O Amin------------\n",
        "#|        |       |\n",
        "#O Wasim  O Nick  O Mike\n",
        "#|\n",
        "#O Imran\n",
        "#|\n",
        "#O Faras\n",
        "\n",
        "bfs(graph, 'Amin')"
      ],
      "metadata": {
        "colab": {
          "base_uri": "https://localhost:8080/"
        },
        "id": "HCjoe5SJEH8p",
        "outputId": "e3e7df8d-6c2e-4af4-bd6e-8c829dc496cb"
      },
      "execution_count": 111,
      "outputs": [
        {
          "output_type": "execute_result",
          "data": {
            "text/plain": [
              "['Amin', 'Mike', 'Wasim', 'Nick', 'Imran', 'Faras']"
            ]
          },
          "metadata": {},
          "execution_count": 111
        }
      ]
    },
    {
      "cell_type": "markdown",
      "source": [
        "**Yang diatas level 1 = (Amin), level 2 = (Wasim, Nick, Mike), level 3 = (Imran), level 4 (Faras)**"
      ],
      "metadata": {
        "id": "cnRagIWNFovy"
      }
    },
    {
      "cell_type": "code",
      "source": [
        "#O Wasim-------\n",
        "#|            |\n",
        "#O Imran      O Amin-----\n",
        "#|            |         |\n",
        "#O Faras      O Nick    O Mike\n",
        "\n",
        "bfs(graph,'Wasim')"
      ],
      "metadata": {
        "colab": {
          "base_uri": "https://localhost:8080/"
        },
        "id": "v-YX1tCrE0JQ",
        "outputId": "d038351c-078e-45d8-bf9c-6ec51a0735cb"
      },
      "execution_count": 112,
      "outputs": [
        {
          "output_type": "execute_result",
          "data": {
            "text/plain": [
              "['Wasim', 'Imran', 'Amin', 'Faras', 'Mike', 'Nick']"
            ]
          },
          "metadata": {},
          "execution_count": 112
        }
      ]
    },
    {
      "cell_type": "markdown",
      "source": [
        "**Yang diatas level 1 = (Wasim), level 2 = (Imran, Amin), level 3 = (Faras, Nick, Mike)**"
      ],
      "metadata": {
        "id": "y7cZQascGFOK"
      }
    },
    {
      "cell_type": "code",
      "source": [
        "#O Faras\n",
        "#|\n",
        "#O Imran\n",
        "#|\n",
        "#O Wasim  O Nick  O Mike\n",
        "#|        |       |\n",
        "#O Amin------------\n",
        "\n",
        "bfs(graph, 'Faras')"
      ],
      "metadata": {
        "colab": {
          "base_uri": "https://localhost:8080/"
        },
        "id": "MA_rCntoGUgN",
        "outputId": "c2c16d25-74a9-473d-ae3e-c7c27c2f8e0a"
      },
      "execution_count": 113,
      "outputs": [
        {
          "output_type": "execute_result",
          "data": {
            "text/plain": [
              "['Faras', 'Imran', 'Wasim', 'Amin', 'Mike', 'Nick']"
            ]
          },
          "metadata": {},
          "execution_count": 113
        }
      ]
    },
    {
      "cell_type": "markdown",
      "source": [
        "**Yang diatas faras hanya mengenal imron, imron mengenal wasim --> amin --> nick --> mike**"
      ],
      "metadata": {
        "id": "oAhOHq0hGfW3"
      }
    },
    {
      "cell_type": "markdown",
      "source": [
        "**LATIHAN 1**"
      ],
      "metadata": {
        "id": "eeL1A85dTxjd"
      }
    },
    {
      "cell_type": "code",
      "source": [
        "graph={'Rektor' : {'Warek1', 'Warek2'},\n",
        "       'Warek1' : {'Rektor'},\n",
        "       'Warek2' : {'Rektor','Kaprodi1', 'Kaprodi2','Kaprodi3'},\n",
        "       'Kaprodi1' : {'Warek2','Dosen A','Dosen B','Dosen C'},\n",
        "       'Dosen A' : {'Kaprodi1'},\n",
        "       'Dosen B' : {'Kaprodi1'},\n",
        "       'Dosen C' : {'Kaprodi1'},\n",
        "       'Kaprodi2' : {'Warek2','Dosen D','Dosen E'},\n",
        "       'Dosen D' : {'Kaprodi2'},\n",
        "       'Dosen E' : {'Kaprodi2'},\n",
        "       'Kaprodi3' : {'Warek2','Dosen F','Dosen G'},\n",
        "       'Dosen F': {'Kaprodi3'},\n",
        "       'Dosen G' : {'Kaprodi3'}}"
      ],
      "metadata": {
        "id": "pgL7lP6SHT74"
      },
      "execution_count": 114,
      "outputs": []
    },
    {
      "cell_type": "code",
      "source": [
        "bfs(graph, 'Rektor')"
      ],
      "metadata": {
        "colab": {
          "base_uri": "https://localhost:8080/"
        },
        "id": "kwut6xj4HboC",
        "outputId": "7447ee5e-afb0-463d-c960-b56072561e6d"
      },
      "execution_count": 115,
      "outputs": [
        {
          "output_type": "execute_result",
          "data": {
            "text/plain": [
              "['Rektor',\n",
              " 'Warek2',\n",
              " 'Warek1',\n",
              " 'Kaprodi3',\n",
              " 'Kaprodi2',\n",
              " 'Kaprodi1',\n",
              " 'Dosen G',\n",
              " 'Dosen F',\n",
              " 'Dosen D',\n",
              " 'Dosen E',\n",
              " 'Dosen A',\n",
              " 'Dosen B',\n",
              " 'Dosen C']"
            ]
          },
          "metadata": {},
          "execution_count": 115
        }
      ]
    },
    {
      "cell_type": "code",
      "source": [
        "bfs(graph, 'Dosen B')"
      ],
      "metadata": {
        "colab": {
          "base_uri": "https://localhost:8080/"
        },
        "id": "Git3Qk8TMORA",
        "outputId": "ddd4a453-3de1-4dbb-ffc0-63d1b2a8e26e"
      },
      "execution_count": 116,
      "outputs": [
        {
          "output_type": "execute_result",
          "data": {
            "text/plain": [
              "['Dosen B',\n",
              " 'Kaprodi1',\n",
              " 'Warek2',\n",
              " 'Dosen A',\n",
              " 'Dosen C',\n",
              " 'Kaprodi3',\n",
              " 'Rektor',\n",
              " 'Kaprodi2',\n",
              " 'Dosen G',\n",
              " 'Dosen F',\n",
              " 'Warek1',\n",
              " 'Dosen D',\n",
              " 'Dosen E']"
            ]
          },
          "metadata": {},
          "execution_count": 116
        }
      ]
    },
    {
      "cell_type": "code",
      "source": [
        "bfs(graph, 'Kaprodi2')"
      ],
      "metadata": {
        "colab": {
          "base_uri": "https://localhost:8080/"
        },
        "id": "ZLc5zdLLPza9",
        "outputId": "76aada9f-d801-4f3c-c9ce-d6a8f357326b"
      },
      "execution_count": 117,
      "outputs": [
        {
          "output_type": "execute_result",
          "data": {
            "text/plain": [
              "['Kaprodi2',\n",
              " 'Warek2',\n",
              " 'Dosen D',\n",
              " 'Dosen E',\n",
              " 'Kaprodi3',\n",
              " 'Rektor',\n",
              " 'Kaprodi1',\n",
              " 'Dosen G',\n",
              " 'Dosen F',\n",
              " 'Warek1',\n",
              " 'Dosen A',\n",
              " 'Dosen B',\n",
              " 'Dosen C']"
            ]
          },
          "metadata": {},
          "execution_count": 117
        }
      ]
    },
    {
      "cell_type": "code",
      "source": [
        "graph7={'10': {'1', '9'},\n",
        "       '1' : {'10', '8'},\n",
        "       '9' : {'10', '8'},\n",
        "       '8' : {'1', '9', '12'},\n",
        "       '0' : {'9', '7', '11'},\n",
        "       '12': {'8', '2'},\n",
        "       '2' : {'12', '3'},\n",
        "       '7' : {'0', '11'},\n",
        "       '11': {'7', '0'},\n",
        "       '3' : {'2', '4', '7'},\n",
        "       '4' : {'3'},\n",
        "       '6' : {'7', '5'},\n",
        "       '5' : {'6'}}"
      ],
      "metadata": {
        "id": "ithlAqGQMFlK"
      },
      "execution_count": 118,
      "outputs": []
    },
    {
      "cell_type": "code",
      "source": [
        "bfs(graph7,'0')"
      ],
      "metadata": {
        "id": "75YgJjPHMFwZ",
        "outputId": "76476f84-0d14-4b8c-eee9-7a2cf0839ec8",
        "colab": {
          "base_uri": "https://localhost:8080/"
        }
      },
      "execution_count": 119,
      "outputs": [
        {
          "output_type": "execute_result",
          "data": {
            "text/plain": [
              "['0', '7', '11', '9', '8', '10', '12', '1', '2', '3', '4']"
            ]
          },
          "metadata": {},
          "execution_count": 119
        }
      ]
    },
    {
      "cell_type": "markdown",
      "source": [
        "**IMPLEMENTASI ALGORITMA DEPTH FIRST SEARCH**"
      ],
      "metadata": {
        "id": "M_-ndEWQKbSE"
      }
    },
    {
      "cell_type": "markdown",
      "source": [
        "**(DEPT ITU MELAKUKAN LEVEL KEBAWAH)**"
      ],
      "metadata": {
        "id": "ci6fY_eOSrTa"
      }
    },
    {
      "cell_type": "code",
      "source": [
        "def dfs(graph, start, visited=None):\n",
        "  if visited is None:\n",
        "    visited = set()\n",
        "  visited.add(start)\n",
        "  print(start)\n",
        "  for next in graph[start] - visited:\n",
        "    dfs(graph, next, visited)"
      ],
      "metadata": {
        "id": "wV5x-dcCKjU7"
      },
      "execution_count": 120,
      "outputs": []
    },
    {
      "cell_type": "code",
      "source": [
        "graph={ 'Amin' : {'Wasim', 'Nick', 'Mike'},\n",
        "       'Wasim' : {'Imran', 'Amin'},\n",
        "       'Imran' : {'Wasim','Faras'},\n",
        "       'Faras' : {'Imran'},\n",
        "       'Mike' : {'Amin'},\n",
        "       'Nick' : {'Amin'}}"
      ],
      "metadata": {
        "id": "PGlr0QlSKpre"
      },
      "execution_count": 121,
      "outputs": []
    },
    {
      "cell_type": "code",
      "source": [
        "#O Amin -----------\n",
        "#|        |       |\n",
        "#O Wasim  O Nick  O Mike\n",
        "#|\n",
        "#O Imran\n",
        "#|\n",
        "#O Faras\n",
        "\n",
        "dfs(graph, 'Amin')"
      ],
      "metadata": {
        "colab": {
          "base_uri": "https://localhost:8080/"
        },
        "id": "YfNYyns6Slfa",
        "outputId": "eaa0cae6-9dd1-45fd-d734-8e0d5f8c4fa9"
      },
      "execution_count": 122,
      "outputs": [
        {
          "output_type": "stream",
          "name": "stdout",
          "text": [
            "Amin\n",
            "Mike\n",
            "Wasim\n",
            "Imran\n",
            "Faras\n",
            "Nick\n"
          ]
        }
      ]
    },
    {
      "cell_type": "code",
      "source": [
        "#O Wasim-------\n",
        "#|            |\n",
        "#O Imran      O Amin-----\n",
        "#|            |         |\n",
        "#O Faras      O Nick    O Mike\n",
        "\n",
        "dfs(graph,'Wasim')"
      ],
      "metadata": {
        "colab": {
          "base_uri": "https://localhost:8080/"
        },
        "id": "_Oy-mD5aTREi",
        "outputId": "466ee0e6-b8c0-4b94-bb8c-8d49f7bcc4ae"
      },
      "execution_count": 123,
      "outputs": [
        {
          "output_type": "stream",
          "name": "stdout",
          "text": [
            "Wasim\n",
            "Imran\n",
            "Faras\n",
            "Amin\n",
            "Mike\n",
            "Nick\n"
          ]
        }
      ]
    },
    {
      "cell_type": "code",
      "source": [
        "#O Faras\n",
        "#|\n",
        "#O Imran\n",
        "#|\n",
        "#O Wasim  O Nick  O Mike\n",
        "#|        |       |\n",
        "#O Amin------------\n",
        "\n",
        "dfs(graph, 'Faras')"
      ],
      "metadata": {
        "colab": {
          "base_uri": "https://localhost:8080/"
        },
        "id": "L3CLX3lhTd2s",
        "outputId": "5293d5cd-1e35-49f2-8825-b346adc40c18"
      },
      "execution_count": 124,
      "outputs": [
        {
          "output_type": "stream",
          "name": "stdout",
          "text": [
            "Faras\n",
            "Imran\n",
            "Wasim\n",
            "Amin\n",
            "Mike\n",
            "Nick\n"
          ]
        }
      ]
    },
    {
      "cell_type": "code",
      "source": [
        "#O Nick------\n",
        "#|          |\n",
        "#O Amin     O Mike\n",
        "#|\n",
        "#O Wasim\n",
        "#|\n",
        "#O Imran\n",
        "#|\n",
        "#O Faras\n",
        "\n",
        "dfs(graph, 'Nick')"
      ],
      "metadata": {
        "colab": {
          "base_uri": "https://localhost:8080/"
        },
        "id": "twZIuJL6Tiri",
        "outputId": "a9bc179b-9d43-4134-bed3-02974b64574c"
      },
      "execution_count": 125,
      "outputs": [
        {
          "output_type": "stream",
          "name": "stdout",
          "text": [
            "Nick\n",
            "Amin\n",
            "Mike\n",
            "Wasim\n",
            "Imran\n",
            "Faras\n"
          ]
        }
      ]
    },
    {
      "cell_type": "markdown",
      "source": [
        "**LATIHAN 2**"
      ],
      "metadata": {
        "id": "f2pIEo20T3Ai"
      }
    },
    {
      "cell_type": "code",
      "source": [
        "graph={'Rektor' : {'Warek1', 'Warek2'},\n",
        "       'Warek1' : {'Rektor'},\n",
        "       'Warek2' : {'Rektor','Kaprodi1', 'Kaprodi2','Kaprodi3'},\n",
        "       'Kaprodi1' : {'Warek2','Dosen A','Dosen B','Dosen C'},\n",
        "       'Dosen A' : {'Kaprodi1'},\n",
        "       'Dosen B' : {'Kaprodi1'},\n",
        "       'Dosen C' : {'Kaprodi1'},\n",
        "       'Kaprodi2' : {'Warek2','Dosen D','Dosen E'},\n",
        "       'Dosen D' : {'Kaprodi2'},\n",
        "       'Dosen E' : {'Kaprodi2'},\n",
        "       'Kaprodi3' : {'Warek2','Dosen F','Dosen G'},\n",
        "       'Dosen F': {'Kaprodi3'},\n",
        "       'Dosen G' : {'Kaprodi3'}}\n",
        "\n",
        "dfs(graph, 'Rektor')"
      ],
      "metadata": {
        "colab": {
          "base_uri": "https://localhost:8080/"
        },
        "id": "HuRjivqvUC2h",
        "outputId": "687fd299-509e-4d1a-db24-e71e7c5c472d"
      },
      "execution_count": 126,
      "outputs": [
        {
          "output_type": "stream",
          "name": "stdout",
          "text": [
            "Rektor\n",
            "Warek2\n",
            "Kaprodi3\n",
            "Dosen G\n",
            "Dosen F\n",
            "Kaprodi2\n",
            "Dosen D\n",
            "Dosen E\n",
            "Kaprodi1\n",
            "Dosen A\n",
            "Dosen B\n",
            "Dosen C\n",
            "Warek1\n"
          ]
        }
      ]
    },
    {
      "cell_type": "code",
      "source": [
        "graph4 ={'0' : {'1', '9'},\n",
        "       '1' : {'0', '8'},\n",
        "       '9' : {'0', '8'},\n",
        "       '8' : {'1', '9', '7'},\n",
        "       '7' : {'8', '10', '11','3','6'},\n",
        "       '10' : {'7', '11'},\n",
        "       '11' : {'10', '7'},\n",
        "       '6' : {'7', '5'},\n",
        "       '5' : {'6', '3'},\n",
        "       '3' : {'7', '5','2','4'},\n",
        "       '4' : {'3'},\n",
        "       '2' : {'3'},\n",
        "       '12': {' '}}"
      ],
      "metadata": {
        "id": "s15ewF8-PxXZ"
      },
      "execution_count": 129,
      "outputs": []
    },
    {
      "cell_type": "code",
      "source": [
        "dfs(graph4, '0')"
      ],
      "metadata": {
        "id": "eIq0jeewQAfy",
        "outputId": "d8775b7e-b795-4e0a-eb74-bc142faf72ae",
        "colab": {
          "base_uri": "https://localhost:8080/"
        }
      },
      "execution_count": 130,
      "outputs": [
        {
          "output_type": "stream",
          "name": "stdout",
          "text": [
            "0\n",
            "9\n",
            "8\n",
            "7\n",
            "3\n",
            "5\n",
            "6\n",
            "2\n",
            "4\n",
            "11\n",
            "10\n",
            "6\n",
            "10\n",
            "1\n",
            "1\n"
          ]
        }
      ]
    }
  ]
}